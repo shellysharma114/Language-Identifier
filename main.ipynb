{
 "cells": [
  {
   "cell_type": "code",
   "execution_count": 2,
   "id": "36d3c585",
   "metadata": {},
   "outputs": [],
   "source": [
    "import pandas as pd\n",
    "from sklearn.model_selection import train_test_split\n",
    "from sklearn.feature_extraction.text import TfidfVectorizer\n",
    "from sklearn.svm import SVC\n",
    "from sklearn.metrics import accuracy_score, classification_report"
   ]
  },
  {
   "cell_type": "code",
   "execution_count": 3,
   "id": "ec692c31",
   "metadata": {},
   "outputs": [],
   "source": [
    "df = pd.read_csv('languageD.csv') "
   ]
  },
  {
   "cell_type": "code",
   "execution_count": 3,
   "id": "d4ca8b36",
   "metadata": {},
   "outputs": [
    {
     "data": {
      "text/html": [
       "<div>\n",
       "<style scoped>\n",
       "    .dataframe tbody tr th:only-of-type {\n",
       "        vertical-align: middle;\n",
       "    }\n",
       "\n",
       "    .dataframe tbody tr th {\n",
       "        vertical-align: top;\n",
       "    }\n",
       "\n",
       "    .dataframe thead th {\n",
       "        text-align: right;\n",
       "    }\n",
       "</style>\n",
       "<table border=\"1\" class=\"dataframe\">\n",
       "  <thead>\n",
       "    <tr style=\"text-align: right;\">\n",
       "      <th></th>\n",
       "      <th>Text</th>\n",
       "      <th>Language</th>\n",
       "    </tr>\n",
       "  </thead>\n",
       "  <tbody>\n",
       "    <tr>\n",
       "      <th>0</th>\n",
       "      <td>Nature, in the broadest sense, is the natural...</td>\n",
       "      <td>English</td>\n",
       "    </tr>\n",
       "    <tr>\n",
       "      <th>1</th>\n",
       "      <td>\"Nature\" can refer to the phenomena of the phy...</td>\n",
       "      <td>English</td>\n",
       "    </tr>\n",
       "    <tr>\n",
       "      <th>2</th>\n",
       "      <td>The study of nature is a large, if not the onl...</td>\n",
       "      <td>English</td>\n",
       "    </tr>\n",
       "    <tr>\n",
       "      <th>3</th>\n",
       "      <td>Although humans are part of nature, human acti...</td>\n",
       "      <td>English</td>\n",
       "    </tr>\n",
       "    <tr>\n",
       "      <th>4</th>\n",
       "      <td>[1] The word nature is borrowed from the Old F...</td>\n",
       "      <td>English</td>\n",
       "    </tr>\n",
       "    <tr>\n",
       "      <th>...</th>\n",
       "      <td>...</td>\n",
       "      <td>...</td>\n",
       "    </tr>\n",
       "    <tr>\n",
       "      <th>10332</th>\n",
       "      <td>ನಿಮ್ಮ ತಪ್ಪು ಏನು ಬಂದಿದೆಯೆಂದರೆ ಆ ದಿನದಿಂದ ನಿಮಗೆ ಒ...</td>\n",
       "      <td>Kannada</td>\n",
       "    </tr>\n",
       "    <tr>\n",
       "      <th>10333</th>\n",
       "      <td>ನಾರ್ಸಿಸಾ ತಾನು ಮೊದಲಿಗೆ ಹೆಣಗಾಡುತ್ತಿದ್ದ ಮಾರ್ಗಗಳನ್...</td>\n",
       "      <td>Kannada</td>\n",
       "    </tr>\n",
       "    <tr>\n",
       "      <th>10334</th>\n",
       "      <td>ಹೇಗೆ ' ನಾರ್ಸಿಸಿಸಮ್ ಈಗ ಮರಿಯನ್ ಅವರಿಗೆ ಸಂಭವಿಸಿದ ಎ...</td>\n",
       "      <td>Kannada</td>\n",
       "    </tr>\n",
       "    <tr>\n",
       "      <th>10335</th>\n",
       "      <td>ಅವಳು ಈಗ ಹೆಚ್ಚು ಚಿನ್ನದ ಬ್ರೆಡ್ ಬಯಸುವುದಿಲ್ಲ ಎಂದು ...</td>\n",
       "      <td>Kannada</td>\n",
       "    </tr>\n",
       "    <tr>\n",
       "      <th>10336</th>\n",
       "      <td>ಟೆರ್ರಿ ನೀವು ನಿಜವಾಗಿಯೂ ಆ ದೇವದೂತನಂತೆ ಸ್ವಲ್ಪ ಕಾಣು...</td>\n",
       "      <td>Kannada</td>\n",
       "    </tr>\n",
       "  </tbody>\n",
       "</table>\n",
       "<p>10337 rows × 2 columns</p>\n",
       "</div>"
      ],
      "text/plain": [
       "                                                    Text Language\n",
       "0       Nature, in the broadest sense, is the natural...  English\n",
       "1      \"Nature\" can refer to the phenomena of the phy...  English\n",
       "2      The study of nature is a large, if not the onl...  English\n",
       "3      Although humans are part of nature, human acti...  English\n",
       "4      [1] The word nature is borrowed from the Old F...  English\n",
       "...                                                  ...      ...\n",
       "10332  ನಿಮ್ಮ ತಪ್ಪು ಏನು ಬಂದಿದೆಯೆಂದರೆ ಆ ದಿನದಿಂದ ನಿಮಗೆ ಒ...  Kannada\n",
       "10333  ನಾರ್ಸಿಸಾ ತಾನು ಮೊದಲಿಗೆ ಹೆಣಗಾಡುತ್ತಿದ್ದ ಮಾರ್ಗಗಳನ್...  Kannada\n",
       "10334  ಹೇಗೆ ' ನಾರ್ಸಿಸಿಸಮ್ ಈಗ ಮರಿಯನ್ ಅವರಿಗೆ ಸಂಭವಿಸಿದ ಎ...  Kannada\n",
       "10335  ಅವಳು ಈಗ ಹೆಚ್ಚು ಚಿನ್ನದ ಬ್ರೆಡ್ ಬಯಸುವುದಿಲ್ಲ ಎಂದು ...  Kannada\n",
       "10336  ಟೆರ್ರಿ ನೀವು ನಿಜವಾಗಿಯೂ ಆ ದೇವದೂತನಂತೆ ಸ್ವಲ್ಪ ಕಾಣು...  Kannada\n",
       "\n",
       "[10337 rows x 2 columns]"
      ]
     },
     "execution_count": 3,
     "metadata": {},
     "output_type": "execute_result"
    }
   ],
   "source": [
    "df"
   ]
  },
  {
   "cell_type": "code",
   "execution_count": 4,
   "id": "ca94c798",
   "metadata": {},
   "outputs": [],
   "source": [
    "X = dataset['Text']\n",
    "y = dataset['Language']\n",
    "X_train, X_test, y_train, y_test = train_test_split(X, y, test_size=0.2, random_state=42)\n"
   ]
  },
  {
   "cell_type": "code",
   "execution_count": 5,
   "id": "2c24cfcf",
   "metadata": {},
   "outputs": [],
   "source": [
    "tfidf_vectorizer = TfidfVectorizer()\n",
    "X_train_tfidf = tfidf_vectorizer.fit_transform(X_train)\n",
    "X_test_tfidf = tfidf_vectorizer.transform(X_test)"
   ]
  },
  {
   "cell_type": "code",
   "execution_count": 6,
   "id": "d32460ff",
   "metadata": {},
   "outputs": [],
   "source": [
    "svm_classifier = SVC(kernel='linear') \n"
   ]
  },
  {
   "cell_type": "code",
   "execution_count": 7,
   "id": "18ac4c5f",
   "metadata": {},
   "outputs": [
    {
     "data": {
      "text/plain": [
       "SVC(kernel='linear')"
      ]
     },
     "execution_count": 7,
     "metadata": {},
     "output_type": "execute_result"
    }
   ],
   "source": [
    "svm_classifier.fit(X_train_tfidf, y_train)"
   ]
  },
  {
   "cell_type": "code",
   "execution_count": 25,
   "id": "7e095400",
   "metadata": {},
   "outputs": [
    {
     "data": {
      "text/plain": [
       "['svm_model.pkl']"
      ]
     },
     "execution_count": 25,
     "metadata": {},
     "output_type": "execute_result"
    }
   ],
   "source": [
    "import joblib\n",
    "\n",
    "joblib.dump(tfidf_vectorizer, 'tfidf_vectorizer.pkl')\n",
    "\n",
    "joblib.dump(svm_classifier, 'svm_model.pkl')\n"
   ]
  },
  {
   "cell_type": "code",
   "execution_count": 9,
   "id": "61104ca6",
   "metadata": {},
   "outputs": [
    {
     "name": "stdout",
     "output_type": "stream",
     "text": [
      "Accuracy: 0.9637330754352031\n",
      "\n",
      "Classification Report:\n",
      "              precision    recall  f1-score   support\n",
      "\n",
      "      Arabic       1.00      0.95      0.98       106\n",
      "      Danish       0.96      0.90      0.93        73\n",
      "       Dutch       0.98      0.95      0.96       111\n",
      "     English       0.98      0.99      0.98       291\n",
      "      French       1.00      0.97      0.98       219\n",
      "      German       1.00      0.95      0.97        93\n",
      "       Greek       1.00      0.94      0.97        68\n",
      "       Hindi       1.00      0.80      0.89        10\n",
      "     Italian       1.00      0.94      0.97       145\n",
      "     Kannada       1.00      0.98      0.99        66\n",
      "   Malayalam       1.00      0.97      0.98       121\n",
      "  Portugeese       1.00      0.95      0.98       144\n",
      "     Russian       0.74      1.00      0.85       136\n",
      "     Spanish       0.93      0.97      0.95       160\n",
      "    Sweedish       0.98      0.98      0.98       133\n",
      "       Tamil       1.00      0.97      0.98        87\n",
      "     Turkish       1.00      0.93      0.97       105\n",
      "\n",
      "    accuracy                           0.96      2068\n",
      "   macro avg       0.97      0.95      0.96      2068\n",
      "weighted avg       0.97      0.96      0.97      2068\n",
      "\n"
     ]
    }
   ],
   "source": [
    "y_pred = svm_classifier.predict(X_test_tfidf)\n",
    "accuracy = accuracy_score(y_test, y_pred)\n",
    "print(\"Accuracy:\", accuracy)\n",
    "print(\"\\nClassification Report:\")\n",
    "print(classification_report(y_test, y_pred))"
   ]
  },
  {
   "cell_type": "code",
   "execution_count": 10,
   "id": "19e36645",
   "metadata": {},
   "outputs": [
    {
     "name": "stdout",
     "output_type": "stream",
     "text": [
      "\n",
      "Predicted languages for new text inputs: ['English' 'French' 'Spanish']\n"
     ]
    }
   ],
   "source": [
    "new_text = [\"This is a test text.\", \"Ceci est un texte de test.\", \"Esto es un texto de prueba.\"]\n",
    "new_text_tfidf = tfidf_vectorizer.transform(new_text)\n",
    "predicted_languages = svm_classifier.predict(new_text_tfidf)\n",
    "print(\"\\nPredicted languages for new text inputs:\", predicted_languages)"
   ]
  },
  {
   "cell_type": "code",
   "execution_count": 11,
   "id": "e6f6e65f",
   "metadata": {},
   "outputs": [
    {
     "data": {
      "text/plain": [
       "SVC(degree=5, kernel='poly')"
      ]
     },
     "execution_count": 11,
     "metadata": {},
     "output_type": "execute_result"
    }
   ],
   "source": [
    "svm_classifier_poly = SVC(kernel='poly', degree=5)  \n",
    "svm_classifier_poly.fit(X_train_tfidf, y_train)"
   ]
  },
  {
   "cell_type": "code",
   "execution_count": 12,
   "id": "4e3f4307",
   "metadata": {},
   "outputs": [
    {
     "data": {
      "text/plain": [
       "SVC(degree=5, kernel='poly')"
      ]
     },
     "execution_count": 12,
     "metadata": {},
     "output_type": "execute_result"
    }
   ],
   "source": [
    "svm_classifier_poly.fit(X_train_tfidf, y_train)"
   ]
  },
  {
   "cell_type": "code",
   "execution_count": 13,
   "id": "9b199fb3",
   "metadata": {},
   "outputs": [
    {
     "name": "stdout",
     "output_type": "stream",
     "text": [
      "Accuracy: 0.17988394584139264\n",
      "\n",
      "Classification Report:\n",
      "              precision    recall  f1-score   support\n",
      "\n",
      "      Arabic       1.00      0.01      0.02       106\n",
      "      Danish       0.75      0.04      0.08        73\n",
      "       Dutch       1.00      0.04      0.07       111\n",
      "     English       0.15      1.00      0.26       291\n",
      "      French       1.00      0.05      0.10       219\n",
      "      German       1.00      0.03      0.06        93\n",
      "       Greek       1.00      0.06      0.11        68\n",
      "       Hindi       1.00      0.20      0.33        10\n",
      "     Italian       1.00      0.02      0.04       145\n",
      "     Kannada       1.00      0.08      0.14        66\n",
      "   Malayalam       1.00      0.11      0.19       121\n",
      "  Portugeese       1.00      0.03      0.05       144\n",
      "     Russian       1.00      0.03      0.06       136\n",
      "     Spanish       1.00      0.01      0.02       160\n",
      "    Sweedish       1.00      0.02      0.03       133\n",
      "       Tamil       1.00      0.21      0.34        87\n",
      "     Turkish       1.00      0.02      0.04       105\n",
      "\n",
      "    accuracy                           0.18      2068\n",
      "   macro avg       0.94      0.11      0.11      2068\n",
      "weighted avg       0.87      0.18      0.11      2068\n",
      "\n"
     ]
    }
   ],
   "source": [
    "y_pred_poly = svm_classifier_poly.predict(X_test_tfidf)\n",
    "accuracy_poly = accuracy_score(y_test, y_pred_poly)\n",
    "print(\"Accuracy:\", accuracy_poly)\n",
    "print(\"\\nClassification Report:\")\n",
    "print(classification_report(y_test, y_pred_poly))"
   ]
  },
  {
   "cell_type": "code",
   "execution_count": 14,
   "id": "18077254",
   "metadata": {},
   "outputs": [
    {
     "data": {
      "text/plain": [
       "SVC(gamma='auto')"
      ]
     },
     "execution_count": 14,
     "metadata": {},
     "output_type": "execute_result"
    }
   ],
   "source": [
    "svm_classifier_rbf = SVC(kernel='rbf', gamma='auto')  # 'gamma' parameter controls the influence of a single training example\n",
    "svm_classifier_rbf.fit(X_train_tfidf, y_train)\n"
   ]
  },
  {
   "cell_type": "code",
   "execution_count": 15,
   "id": "c5890ebe",
   "metadata": {},
   "outputs": [
    {
     "data": {
      "text/plain": [
       "SVC(gamma='auto')"
      ]
     },
     "execution_count": 15,
     "metadata": {},
     "output_type": "execute_result"
    }
   ],
   "source": [
    "svm_classifier_rbf.fit(X_train_tfidf, y_train)"
   ]
  },
  {
   "cell_type": "code",
   "execution_count": 16,
   "id": "22336cba",
   "metadata": {},
   "outputs": [
    {
     "name": "stdout",
     "output_type": "stream",
     "text": [
      "Accuracy: 0.140715667311412\n",
      "\n",
      "Classification Report:\n",
      "              precision    recall  f1-score   support\n",
      "\n",
      "      Arabic       0.00      0.00      0.00       106\n",
      "      Danish       0.00      0.00      0.00        73\n",
      "       Dutch       0.00      0.00      0.00       111\n",
      "     English       0.14      1.00      0.25       291\n",
      "      French       0.00      0.00      0.00       219\n",
      "      German       0.00      0.00      0.00        93\n",
      "       Greek       0.00      0.00      0.00        68\n",
      "       Hindi       0.00      0.00      0.00        10\n",
      "     Italian       0.00      0.00      0.00       145\n",
      "     Kannada       0.00      0.00      0.00        66\n",
      "   Malayalam       0.00      0.00      0.00       121\n",
      "  Portugeese       0.00      0.00      0.00       144\n",
      "     Russian       0.00      0.00      0.00       136\n",
      "     Spanish       0.00      0.00      0.00       160\n",
      "    Sweedish       0.00      0.00      0.00       133\n",
      "       Tamil       0.00      0.00      0.00        87\n",
      "     Turkish       0.00      0.00      0.00       105\n",
      "\n",
      "    accuracy                           0.14      2068\n",
      "   macro avg       0.01      0.06      0.01      2068\n",
      "weighted avg       0.02      0.14      0.03      2068\n",
      "\n"
     ]
    },
    {
     "name": "stderr",
     "output_type": "stream",
     "text": [
      "C:\\Users\\shelly\\anaconda3\\lib\\site-packages\\sklearn\\metrics\\_classification.py:1318: UndefinedMetricWarning: Precision and F-score are ill-defined and being set to 0.0 in labels with no predicted samples. Use `zero_division` parameter to control this behavior.\n",
      "  _warn_prf(average, modifier, msg_start, len(result))\n",
      "C:\\Users\\shelly\\anaconda3\\lib\\site-packages\\sklearn\\metrics\\_classification.py:1318: UndefinedMetricWarning: Precision and F-score are ill-defined and being set to 0.0 in labels with no predicted samples. Use `zero_division` parameter to control this behavior.\n",
      "  _warn_prf(average, modifier, msg_start, len(result))\n",
      "C:\\Users\\shelly\\anaconda3\\lib\\site-packages\\sklearn\\metrics\\_classification.py:1318: UndefinedMetricWarning: Precision and F-score are ill-defined and being set to 0.0 in labels with no predicted samples. Use `zero_division` parameter to control this behavior.\n",
      "  _warn_prf(average, modifier, msg_start, len(result))\n"
     ]
    }
   ],
   "source": [
    "y_pred_rbf = svm_classifier_rbf.predict(X_test_tfidf)\n",
    "accuracy_rbf = accuracy_score(y_test, y_pred_rbf)\n",
    "print(\"Accuracy:\", accuracy_rbf)\n",
    "print(\"\\nClassification Report:\")\n",
    "print(classification_report(y_test, y_pred_rbf))"
   ]
  },
  {
   "cell_type": "code",
   "execution_count": 17,
   "id": "2e3ae775",
   "metadata": {},
   "outputs": [
    {
     "data": {
      "text/plain": [
       "SVC(gamma='auto', kernel='sigmoid')"
      ]
     },
     "execution_count": 17,
     "metadata": {},
     "output_type": "execute_result"
    }
   ],
   "source": [
    "svm_classifier_sigmoid = SVC(kernel='sigmoid', gamma='auto')  # 'gamma' parameter controls the influence of a single training example\n",
    "svm_classifier_sigmoid.fit(X_train_tfidf, y_train)\n"
   ]
  },
  {
   "cell_type": "code",
   "execution_count": 18,
   "id": "86052d2a",
   "metadata": {},
   "outputs": [
    {
     "data": {
      "text/plain": [
       "SVC(gamma='auto', kernel='sigmoid')"
      ]
     },
     "execution_count": 18,
     "metadata": {},
     "output_type": "execute_result"
    }
   ],
   "source": [
    "svm_classifier_sigmoid.fit(X_train_tfidf, y_train)"
   ]
  },
  {
   "cell_type": "code",
   "execution_count": 19,
   "id": "28318e1f",
   "metadata": {},
   "outputs": [
    {
     "name": "stdout",
     "output_type": "stream",
     "text": [
      "Accuracy: 0.140715667311412\n",
      "\n",
      "Classification Report:\n",
      "              precision    recall  f1-score   support\n",
      "\n",
      "      Arabic       0.00      0.00      0.00       106\n",
      "      Danish       0.00      0.00      0.00        73\n",
      "       Dutch       0.00      0.00      0.00       111\n",
      "     English       0.14      1.00      0.25       291\n",
      "      French       0.00      0.00      0.00       219\n",
      "      German       0.00      0.00      0.00        93\n",
      "       Greek       0.00      0.00      0.00        68\n",
      "       Hindi       0.00      0.00      0.00        10\n",
      "     Italian       0.00      0.00      0.00       145\n",
      "     Kannada       0.00      0.00      0.00        66\n",
      "   Malayalam       0.00      0.00      0.00       121\n",
      "  Portugeese       0.00      0.00      0.00       144\n",
      "     Russian       0.00      0.00      0.00       136\n",
      "     Spanish       0.00      0.00      0.00       160\n",
      "    Sweedish       0.00      0.00      0.00       133\n",
      "       Tamil       0.00      0.00      0.00        87\n",
      "     Turkish       0.00      0.00      0.00       105\n",
      "\n",
      "    accuracy                           0.14      2068\n",
      "   macro avg       0.01      0.06      0.01      2068\n",
      "weighted avg       0.02      0.14      0.03      2068\n",
      "\n"
     ]
    },
    {
     "name": "stderr",
     "output_type": "stream",
     "text": [
      "C:\\Users\\shelly\\anaconda3\\lib\\site-packages\\sklearn\\metrics\\_classification.py:1318: UndefinedMetricWarning: Precision and F-score are ill-defined and being set to 0.0 in labels with no predicted samples. Use `zero_division` parameter to control this behavior.\n",
      "  _warn_prf(average, modifier, msg_start, len(result))\n",
      "C:\\Users\\shelly\\anaconda3\\lib\\site-packages\\sklearn\\metrics\\_classification.py:1318: UndefinedMetricWarning: Precision and F-score are ill-defined and being set to 0.0 in labels with no predicted samples. Use `zero_division` parameter to control this behavior.\n",
      "  _warn_prf(average, modifier, msg_start, len(result))\n",
      "C:\\Users\\shelly\\anaconda3\\lib\\site-packages\\sklearn\\metrics\\_classification.py:1318: UndefinedMetricWarning: Precision and F-score are ill-defined and being set to 0.0 in labels with no predicted samples. Use `zero_division` parameter to control this behavior.\n",
      "  _warn_prf(average, modifier, msg_start, len(result))\n"
     ]
    }
   ],
   "source": [
    "y_pred_sigmoid = svm_classifier_sigmoid.predict(X_test_tfidf)\n",
    "accuracy_sigmoid = accuracy_score(y_test, y_pred_sigmoid)\n",
    "print(\"Accuracy:\", accuracy_sigmoid)\n",
    "print(\"\\nClassification Report:\")\n",
    "print(classification_report(y_test, y_pred_sigmoid))"
   ]
  },
  {
   "cell_type": "raw",
   "id": "2b5fbe89",
   "metadata": {},
   "source": [
    "English: Hi. Today is a beautiful day.\n",
    "Arabic: أهلاً. اليوم يوم جميل.\n",
    "Russian: Привет. Сегодня прекрасный день.\n",
    "Malayalam: ഹായ്. ഇന്ന് മനോഹരമായ ഒരു ദിവസമാണ്.\n",
    "Turkish: MERHABA. Bugün güzel bir gün.\n",
    "\n",
    "English: India has the second-largest population in the world. India is also knowns as Bharat, Hindustan and sometimes Aryavart. It is surrounded by oceans from three sides which are Bay Of Bengal in the east, the Arabian Sea in the west and Indian oceans in the south. Tiger is the national animal of India. Peacock is the national bird of India. Mango is the national fruit of India. “Jana Gana Mana” is the national anthem of India. “Vande Mataram” is the national song of India. Hockey is the national sport of India. People of different religions such as Hinduism, Buddhism, Jainism, Sikhism, Islam, Christianity and Judaism lives together from ancient times. India is also rich in monuments, tombs, churches, historical buildings, temples, museums, scenic beauty, wildlife sanctuaries, places of architecture and many more. The great leaders and freedom fighters are from India.\n",
    "Dutch: India heeft de op een na grootste bevolking ter wereld. India is ook bekend als Bharat, Hindustan en soms Aryavart. Het wordt van drie kanten omgeven door oceanen: de Golf van Bengalen in het oosten, de Arabische Zee in het westen en de Indische Oceaan in het zuiden. Tijger is het nationale dier van India. Pauw is de nationale vogel van India. Mango is de nationale vrucht van India. “Jana Gana Mana” is het volkslied van India. “Vande Mataram” is het nationale lied van India. Hockey is de nationale sport van India. Mensen van verschillende religies zoals het hindoeïsme, het boeddhisme, het jainisme, het sikhisme, de islam, het christendom en het jodendom leven al sinds de oudheid samen. India is ook rijk aan monumenten, graven, kerken, historische gebouwen, tempels, musea, natuurschoon, natuurreservaten, architectuurplekken en nog veel meer. De grote leiders en vrijheidsstrijders komen uit India.\n",
    "French: L'Inde a la deuxième plus grande population au monde. L'Inde est également connue sous le nom de Bharat, Hindustan et parfois Aryavart. Il est entouré d'océans sur trois côtés : le golfe du Bengale à l'est, la mer d'Oman à l'ouest et l'océan Indien au sud. Le tigre est l'animal national de l'Inde. Le paon est l'oiseau national de l'Inde. La mangue est le fruit national de l'Inde. \"Jana Gana Mana\" est l'hymne national de l'Inde. « Vande Mataram » est la chanson nationale de l'Inde. Le hockey est le sport national de l'Inde. Des personnes de différentes religions telles que l'hindouisme, le bouddhisme, le jaïnisme, le sikhisme, l'islam, le christianisme et le judaïsme vivent ensemble depuis l'Antiquité. L'Inde est également riche en monuments, tombeaux, églises, bâtiments historiques, temples, musées, beauté des paysages, réserves fauniques, lieux d'architecture et bien d'autres encore. Les grands dirigeants et combattants de la liberté viennent d’Inde.\n",
    "German: Indien hat die zweitgrößte Bevölkerung der Welt. Indien ist auch als Bharat, Hindustan und manchmal Aryavart bekannt. Es ist von drei Seiten von Ozeanen umgeben: dem Golf von Bengalen im Osten, dem Arabischen Meer im Westen und dem Indischen Ozean im Süden. Der Tiger ist das Nationaltier Indiens. Der Pfau ist der Nationalvogel Indiens. Mango ist die Nationalfrucht Indiens. „Jana Gana Mana“ ist die Nationalhymne Indiens. „Vande Mataram“ ist das Nationallied Indiens. Hockey ist der Nationalsport Indiens. Menschen verschiedener Religionen wie Hinduismus, Buddhismus, Jainismus, Sikhismus, Islam, Christentum und Judentum leben seit der Antike zusammen. Indien ist außerdem reich an Denkmälern, Gräbern, Kirchen, historischen Gebäuden, Tempeln, Museen, landschaftlicher Schönheit, Naturschutzgebieten, architektonischen Stätten und vielem mehr. Die großen Führer und Freiheitskämpfer kommen aus Indien.\n",
    "Greek: Η Ινδία έχει τον δεύτερο μεγαλύτερο πληθυσμό στον κόσμο. Η Ινδία είναι επίσης γνωστή ως Bharat, Hindustan και μερικές φορές Aryavart. Περιβάλλεται από ωκεανούς από τρεις πλευρές που είναι ο Κόλπος της Βεγγάλης στα ανατολικά, η Αραβική Θάλασσα στα δυτικά και ο Ινδικός ωκεανός στα νότια. Η τίγρη είναι το εθνικό ζώο της Ινδίας. Το παγώνι είναι το εθνικό πουλί της Ινδίας. Το μάνγκο είναι το εθνικό φρούτο της Ινδίας. Το \"Jana Gana Mana\" είναι ο εθνικός ύμνος της Ινδίας. Το \"Vande Mataram\" είναι το εθνικό τραγούδι της Ινδίας. Το χόκεϊ είναι το εθνικό άθλημα της Ινδίας. Άνθρωποι διαφορετικών θρησκειών όπως ο Ινδουισμός, ο Βουδισμός, ο Τζαϊνισμός, ο Σιχισμός, το Ισλάμ, ο Χριστιανισμός και ο Ιουδαϊσμός ζουν μαζί από την αρχαιότητα. Η Ινδία είναι επίσης πλούσια σε μνημεία, τάφους, εκκλησίες, ιστορικά κτίρια, ναούς, μουσεία, γραφική ομορφιά, καταφύγια άγριας ζωής, μέρη αρχιτεκτονικής και πολλά άλλα. Οι μεγάλοι ηγέτες και αγωνιστές της ελευθερίας είναι από την Ινδία.\n",
    "Hindi: भारत दुनिया की दूसरी सबसे बड़ी आबादी वाला देश है। भारत को भारत, हिंदुस्तान और कभी-कभी आर्यावर्त भी कहा जाता है। यह तीन तरफ से महासागरों से घिरा हुआ है जो पूर्व में बंगाल की खाड़ी, पश्चिम में अरब सागर और दक्षिण में भारतीय महासागर हैं। बाघ भारत का राष्ट्रीय पशु है। मोर भारत का राष्ट्रीय पक्षी है। आम भारत का राष्ट्रीय फल है। \"जन गण मन\" भारत का राष्ट्रगान है। \"वंदे मातरम्\" भारत का राष्ट्रीय गीत है। हॉकी भारत का राष्ट्रीय खेल है। प्राचीन काल से ही विभिन्न धर्मों जैसे हिंदू धर्म, बौद्ध धर्म, जैन धर्म, सिख धर्म, इस्लाम, ईसाई धर्म और यहूदी धर्म के लोग एक साथ रहते हैं। भारत स्मारकों, मकबरों, चर्चों, ऐतिहासिक इमारतों, मंदिरों, संग्रहालयों, प्राकृतिक सुंदरता, वन्यजीव अभयारण्यों, वास्तुकला के स्थानों और कई अन्य चीजों से भी समृद्ध है। महान नेता और स्वतंत्रता सेनानी भारत से हैं।\n",
    "Italian: L’India ha la seconda popolazione più grande del mondo. L'India è anche conosciuta come Bharat, Hindustan e talvolta Aryavart. È circondato da oceani su tre lati: il Golfo del Bengala a est, il Mar Arabico a ovest e l'Oceano Indiano a sud. La tigre è l'animale nazionale dell'India. Il pavone è l'uccello nazionale dell'India. Il mango è il frutto nazionale dell'India. \"Jana Gana Mana\" è l'inno nazionale dell'India. \"Vande Mataram\" è la canzone nazionale dell'India. L'hockey è lo sport nazionale dell'India. Persone di religioni diverse come l'Induismo, il Buddismo, il Giainismo, il Sikhismo, l'Islam, il Cristianesimo e l'Ebraismo convivono fin dai tempi antichi. L'India è anche ricca di monumenti, tombe, chiese, edifici storici, templi, musei, bellezze paesaggistiche, santuari della fauna selvatica, luoghi di architettura e molto altro ancora. I grandi leader e combattenti per la libertà provengono dall’India.\n"
   ]
  },
  {
   "cell_type": "code",
   "execution_count": null,
   "id": "61c2756d",
   "metadata": {},
   "outputs": [],
   "source": []
  }
 ],
 "metadata": {
  "kernelspec": {
   "display_name": "Python 3 (ipykernel)",
   "language": "python",
   "name": "python3"
  },
  "language_info": {
   "codemirror_mode": {
    "name": "ipython",
    "version": 3
   },
   "file_extension": ".py",
   "mimetype": "text/x-python",
   "name": "python",
   "nbconvert_exporter": "python",
   "pygments_lexer": "ipython3",
   "version": "3.9.13"
  }
 },
 "nbformat": 4,
 "nbformat_minor": 5
}
